{
 "cells": [
  {
   "cell_type": "markdown",
   "metadata": {},
   "source": [
    "# \"Case Study Replication using Pandas\"\n",
    "> \"The Dynamics of Satisfaction with Working Hours in Australia\"\n",
    "\n",
    "- branch: master\n",
    "- badges: true\n",
    "- comments: true\n",
    "- categories: [Pandas, Regression]\n",
    "- image: images/case_studies.png\n",
    "- hide: false\n",
    "- search_exclude: true\n",
    "- metadata_key1: metadata_value1\n",
    "- metadata_key2: metadata_value2"
   ]
  },
  {
   "cell_type": "markdown",
   "metadata": {},
   "source": [
    "This was a replication of the Case Study conducted by Breunig, Gong and Leslie, available here: https://onlinelibrary.wiley.com/doi/full/10.1002/app5.64\n",
    "\n",
    "They use the first 11 waves (2001 - 2011) of the HILDA survey - an Australian longtidunal survey that constains information on individual's work patterns and preferences. The use of panel data allowed the researchers to follow the participants through time and track the prevalence, persistence and severities of working hour mismatches. \n",
    "\n",
    "This analysis on their paper replicates each data point they provide and provides extensions in the form of including more waves (16 total) and look at the particular risk factors that cause an individual to overwork.\n",
    "\n",
    "All the relevant code is available under: \n",
    "https://github.com/IanLDias/CaseStudies.github.io\n",
    "\n",
    "The complete report is available here: https://ianldias.github.io/Portfolio/2020/06/08/Report.html"
   ]
  },
  {
   "cell_type": "code",
   "execution_count": null,
   "metadata": {},
   "outputs": [],
   "source": []
  }
 ],
 "metadata": {
  "kernelspec": {
   "display_name": "Python 3",
   "language": "python",
   "name": "python3"
  },
  "language_info": {
   "codemirror_mode": {
    "name": "ipython",
    "version": 3
   },
   "file_extension": ".py",
   "mimetype": "text/x-python",
   "name": "python",
   "nbconvert_exporter": "python",
   "pygments_lexer": "ipython3",
   "version": "3.7.4"
  }
 },
 "nbformat": 4,
 "nbformat_minor": 4
}
