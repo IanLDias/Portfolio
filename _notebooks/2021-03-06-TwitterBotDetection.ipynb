{
 "cells": [
  {
   "cell_type": "markdown",
   "metadata": {},
   "source": [
    "# \"Removal of bots from twitter API calls with SpaCy\"\n",
    "> Specifically related to twitter API calls with cryptocurrency and like keywords\n",
    "- branch: master\n",
    "- badges: true\n",
    "- comments: true\n",
    "- categories: [NLP, TextClassification]\n",
    "- image: images/twitter_crontab.png\n",
    "- hide: false\n",
    "- search_exclude: true\n",
    "- metadata_key1: metadata_value1\n",
    "- metadata_key2: metadata_value2"
   ]
  },
  {
   "cell_type": "markdown",
   "metadata": {},
   "source": [
    "#### The code and model is available in the following repository: https://github.com/IanLDias/tweet_analysis"
   ]
  },
  {
   "cell_type": "markdown",
   "metadata": {},
   "source": [
    "### Project steps\n",
    "\n",
    "1) All tweets with a specific keyword (Bitcoin) were collected over the course of 3 days using crontabs to collect the data every 5 minutes. The data was stored on SQLite\n",
    "\n",
    "2) After enough data was collected, each tweet was labelled by a human to determine if a selected tweet was tweeted by a bot or human. \n",
    "\n",
    "    - This can have bias involved, but other people were able to validate some of the labels. \n",
    "    - Label Studio was a big help over excel\n",
    "    \n",
    "3) SpaCy was used for the text classification\n",
    "\n",
    "    - SpaCy comes with a series of default pipelines for NLP (Tokenizer, POS, NER, DEP, etc) The text-cat was overwritten to fit this data sample.\n",
    "    - This text-cat was added to SpaCy's en_core_web_md\n",
    "    - The training data was passed to the model and a simple-CNN was chosen as the pipe architecture"
   ]
  },
  {
   "cell_type": "code",
   "execution_count": null,
   "metadata": {},
   "outputs": [],
   "source": []
  }
 ],
 "metadata": {
  "kernelspec": {
   "display_name": "Python 3",
   "language": "python",
   "name": "python3"
  },
  "language_info": {
   "codemirror_mode": {
    "name": "ipython",
    "version": 3
   },
   "file_extension": ".py",
   "mimetype": "text/x-python",
   "name": "python",
   "nbconvert_exporter": "python",
   "pygments_lexer": "ipython3",
   "version": "3.7.4"
  }
 },
 "nbformat": 4,
 "nbformat_minor": 2
}
