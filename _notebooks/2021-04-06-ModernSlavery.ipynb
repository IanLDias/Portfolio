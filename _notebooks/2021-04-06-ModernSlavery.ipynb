{
 "cells": [
  {
   "cell_type": "markdown",
   "metadata": {},
   "source": [
    "# \"Modern Slavery analysis\"\n",
    "> \"A look into the modern slavery statements released by companies towards the SDGs\"\n",
    "\n",
    "- branch: master\n",
    "- sticky_rank: 1\n",
    "- badges: true\n",
    "- comments: true\n",
    "- categories: [NLP]\n",
    "- image: images/slavery_img.png\n",
    "- hide: false\n",
    "- search_exclude: true\n",
    "- metadata_key1: metadata_value1\n",
    "- metadata_key2: metadata_value2"
   ]
  },
  {
   "cell_type": "markdown",
   "metadata": {},
   "source": [
    "### About\n",
    "\n",
    "The code is available here: https://github.com/IanLDias/Modern_slavery\n",
    "\n",
    "Inspired by the work done by The Future Society: https://thefuturesociety.org/, this analysis aims to take their research futher.\n",
    "\n",
    "The UK Modern Slavery Act (MSA) requires companies above a certain valuation to report steps that they are taking to to abolish modern slavery from their operations. Australia has now also implemented a similar act. This consists of thousands of PDFs every year submitted by these companies.\n",
    "\n",
    "The aim of this project is to extract information from these documents and identify companies at risk of having these components in their production chains.\n",
    "\n",
    "\n",
    "### Goals\n",
    "\n",
    "The goal of this project is to implement an information extraction framework for these PDFs\n",
    "\n",
    "1) Text Summarization of the PDFs \n",
    "    - Extractive Approach: identifying key sentences and phrases and using these in a summary\n",
    "    \n",
    "2) Relevance Score\n",
    "    - Calculates the TF-IDF of each document and compares document similarities\n",
    "    - Makes a list of the most and least relevant document. Found in TF-IDF sklearn.ipynb\n",
    "3) Identifying companies at risk\n",
    "    - Testing knowledge graphs for information extraction and linkage\n",
    "    "
   ]
  },
  {
   "cell_type": "markdown",
   "metadata": {},
   "source": [
    "### Methods\n",
    "\n",
    "- Google search was scraped with the keyword 'modern slavery statements' and everything that was a pdf as a link was downloaded. \n",
    "\n",
    "Tools used: BeautifulSoup, Requests, regex\n",
    "\n",
    "- The pdfs were then read using PyPDF, Textract and OCR techniques. Textract was found to be most accurate and was used. \n",
    "\n",
    "**1) Text summarization of the PDFs**\n",
    "\n",
    "$\\href{https://github.com/IanLDias/Modern_slavery/blob/main/notebooks/Extractive%20Text%20Summarization.ipynb}{Text-  Summarization}$\n",
    "\n",
    "Each PDF can be a dozen pages long and so a summarization method was needed. An extractive method was used which when used on the coca-cola 10-page pdf yielding the following summary:\n",
    "\n",
    "\"\"\"*We prohibit the use of all forms of forced labour, including prison labour, indentured labour, bonded labour, military labour, slave labour and any form of human trafficking within our company and by any company that directly supplies or provides services to our business.   It expressly prohibits the use of all forms of child labour and forced labour Ð including prison labour, indentured labour, bonded labour, military labour, slave labour and any form of human trafficking.   Developed in partnership with The Coca-Cola Company, our SAGPs cover the Coca-Cola systemÕs key agricultural ingredients, and define the standards we expect our agricultural ingredient suppliers to adhere to in terms of human and workplace rights Ð including prohibitions on modern slavery and child labour, the environment, and management systems.*\"\"\"\n",
    "\n",
    "This isn't as good as it needs to be. Further extensions are to use Named Entity Recognition to identify important elements of the text and center the summarization around those."
   ]
  },
  {
   "cell_type": "markdown",
   "metadata": {},
   "source": [
    "**2) Relevance Score**\n",
    "\n",
    "A manual approach\n",
    ": $\\href{https://github.com/IanLDias/Modern_slavery/blob/main/notebooks/testing/Relevance%20Score%20-%20Manual%20approach.ipynb}{Manual-Approach}$\n",
    "\n",
    "as well as a more optimized approach was used to calculate how relevant each document was in relation to all the other documents. \n",
    "\n",
    "$\\href{https://github.com/IanLDias/Modern_slavery/blob/main/notebooks/Relevance%20Score%20TF-IDF%20sklearn.ipynb}{Optimized-Approach}$\n",
    "\n",
    "- The language model was used from Spacy\n",
    "- The text was lemmatized and punctuation was removed\n",
    "- Each word in every document was added to a corpus\n",
    "- Each document had a number of words that was in this corpus\n",
    "- The term frequency (number of times that word appears in a particular document) and the inverse document frequency (number of times that word appears in the whole corpus) was calculated\n",
    "- Comparing these scores allows you to model a similarity score among the documents"
   ]
  },
  {
   "cell_type": "code",
   "execution_count": null,
   "metadata": {},
   "outputs": [],
   "source": []
  }
 ],
 "metadata": {
  "kernelspec": {
   "display_name": "Python 3",
   "language": "python",
   "name": "python3"
  },
  "language_info": {
   "codemirror_mode": {
    "name": "ipython",
    "version": 3
   },
   "file_extension": ".py",
   "mimetype": "text/x-python",
   "name": "python",
   "nbconvert_exporter": "python",
   "pygments_lexer": "ipython3",
   "version": "3.7.4"
  }
 },
 "nbformat": 4,
 "nbformat_minor": 4
}
