{
 "cells": [
  {
   "cell_type": "markdown",
   "metadata": {},
   "source": [
    "# Random forests, SVMs and Linear Models in the cryptocurrency space\n",
    "> \"This analysis looks at the predictability of 3 major cryptocurrencies: Bitcoin, Ethereum and Litecoin through standard ML algorithms.\"\n",
    "\n",
    "- sticky_rank: 1\n",
    "- branch: master\n",
    "- badges: true\n",
    "- comments: true\n",
    "- categories: [machine_learning, stocks]\n",
    "- image: images/bitcoin_forecast.png\n",
    "- hide: false\n",
    "- search_exclude: true\n",
    "- metadata_key1: metadata_value1"
   ]
  },
  {
   "cell_type": "markdown",
   "metadata": {},
   "source": [
    "\n",
    "### Introduction\n",
    "\n",
    "The full notebook is available here: https://github.com/IanLDias/algo-trading/blob/main/notebooks/crypto/ML%20approaches%20to%20crypto.ipynb\n",
    "\n",
    "This is part of a broader project available here: https://github.com/IanLDias/algo-trading\n",
    "\n",
    "#### Data Sources:\n",
    "Two main data sources were used in this analysis, one to collect data on historical prices and the other to collect relevant IVs.\n",
    "- Coinmetrics: 10 IV's regarding blockchain data\n",
    "    - Transaction information (count, size, fees, difficulty)\n",
    "    - Market cap\n",
    "    - Active addresses\n",
    "    \n",
    "https://coinmetrics.io/\n",
    "\n",
    "- Cryptocompare\n",
    "    - Historical prices (OHLCV)\n",
    "    \n",
    "https://www.cryptocompare.com/"
   ]
  }
 ],
 "metadata": {
  "interpreter": {
   "hash": "31f2aee4e71d21fbe5cf8b01ff0e069b9275f58929596ceb00d14d90e3e16cd6"
  },
  "kernelspec": {
   "display_name": "Python 3.8.5 64-bit",
   "name": "python3"
  },
  "language_info": {
   "name": "python",
   "version": ""
  }
 },
 "nbformat": 4,
 "nbformat_minor": 5
}