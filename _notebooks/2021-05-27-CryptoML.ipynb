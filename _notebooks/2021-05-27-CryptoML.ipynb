{
 "cells": [
  {
   "cell_type": "markdown",
   "id": "aecbf309",
   "metadata": {},
   "source": [
    "## Random forests, SVMs and Linear Models in the cryptocurrency space"
   ]
  },
  {
   "cell_type": "markdown",
   "id": "879bcf60",
   "metadata": {},
   "source": [
    "### Introduction\n",
    "\n",
    "This analysis looks at the predictability of 3 major cryptocurrencies: Bitcoin, Ethereum and Litecoin through standard ML algorithms. \n",
    "\n",
    "This is part of a broader project available here: https://github.com/IanLDias/algo-trading\n",
    "\n",
    "#### Data Sources:\n",
    "Two main data sources were used in this analysis, one to collect data on historical prices and the other to collect relevant IVs.\n",
    "- Coinmetrics: 10 IV's regarding blockchain data\n",
    "    - Transaction information (count, size, fees, difficulty)\n",
    "    - Market cap\n",
    "    - Active addresses\n",
    "    \n",
    "https://coinmetrics.io/\n",
    "\n",
    "- Cryptocompare\n",
    "    - Historical prices (OHLCV)\n",
    "    \n",
    "https://www.cryptocompare.com/\n"
   ]
  },
  {
   "cell_type": "markdown",
   "id": "0b6ec2f9",
   "metadata": {},
   "source": [
    "### Data preprocessing"
   ]
  },
  {
   "cell_type": "markdown",
   "id": "2f05cf03",
   "metadata": {},
   "source": [
    "- Historical price data is saved on a local postgresql server \n",
    "- Data from coinmetrics is saved onto a local csv file\n",
    "- All IVs and price data are collected and separated out into their individual dataframes. "
   ]
  }
 ],
 "metadata": {
  "kernelspec": {
   "display_name": "Python 3",
   "language": "python",
   "name": "python3"
  },
  "language_info": {
   "codemirror_mode": {
    "name": "ipython",
    "version": 3
   },
   "file_extension": ".py",
   "mimetype": "text/x-python",
   "name": "python",
   "nbconvert_exporter": "python",
   "pygments_lexer": "ipython3",
   "version": "3.8.8"
  }
 },
 "nbformat": 4,
 "nbformat_minor": 5
}
