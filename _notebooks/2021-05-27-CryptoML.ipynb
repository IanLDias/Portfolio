{
 "cells": [
  {
   "cell_type": "markdown",
   "id": "b78a805b",
   "metadata": {},
   "source": [
    "# Random forests, SVMs and Linear Models in the cryptocurrency space\n",
    "> \"This analysis looks at the predictability of 3 major cryptocurrencies: Bitcoin, Ethereum and Litecoin through standard ML algorithms.\"\n",
    "\n",
    "- toc: true\n",
    "- sticky_rank: 1\n",
    "- branch: master\n",
    "- badges: true\n",
    "- comments: true\n",
    "- categories: [machine_learning, stocks]\n",
    "- image: images/bitcoin_forecast.png\n",
    "- hide: false\n",
    "- search_exclude: true\n",
    "- metadata_key1: metadata_value1"
   ]
  },
  {
   "cell_type": "markdown",
   "id": "aecbf309",
   "metadata": {},
   "source": [
    "\n",
    "### Introduction\n",
    "\n",
    "The full notebook is available here: https://github.com/IanLDias/algo-trading/blob/main/research_papers/ML%20approaches%20to%20crypto.ipynb\n",
    "\n",
    "This is part of a broader project available here: https://github.com/IanLDias/algo-trading\n",
    "\n",
    "#### Data Sources:\n",
    "Two main data sources were used in this analysis, one to collect data on historical prices and the other to collect relevant IVs.\n",
    "- Coinmetrics: 10 IV's regarding blockchain data\n",
    "    - Transaction information (count, size, fees, difficulty)\n",
    "    - Market cap\n",
    "    - Active addresses\n",
    "    \n",
    "https://coinmetrics.io/\n",
    "\n",
    "- Cryptocompare\n",
    "    - Historical prices (OHLCV)\n",
    "    \n",
    "https://www.cryptocompare.com/"
   ]
  },
  {
   "cell_type": "markdown",
   "id": "0b6ec2f9",
   "metadata": {},
   "source": [
    "### Data preprocessing"
   ]
  },
  {
   "cell_type": "markdown",
   "id": "2f05cf03",
   "metadata": {},
   "source": [
    "- Historical price data is saved on a local postgresql server \n",
    "- Data from coinmetrics is saved onto a local csv file\n",
    "- All IVs and price data are collected and separated out into their individual dataframes. "
   ]
  }
 ],
 "metadata": {
  "kernelspec": {
   "display_name": "Python 3",
   "language": "python",
   "name": "python3"
  },
  "language_info": {
   "codemirror_mode": {
    "name": "ipython",
    "version": 3
   },
   "file_extension": ".py",
   "mimetype": "text/x-python",
   "name": "python",
   "nbconvert_exporter": "python",
   "pygments_lexer": "ipython3",
   "version": "3.8.8"
  }
 },
 "nbformat": 4,
 "nbformat_minor": 5
}
